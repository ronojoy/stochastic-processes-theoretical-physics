{
 "cells": [
  {
   "cell_type": "code",
   "execution_count": 2,
   "metadata": {},
   "outputs": [],
   "source": [
    "using Plots\n",
    "using Random\n",
    "rng = MersenneTwister(1234);"
   ]
  },
  {
   "cell_type": "markdown",
   "metadata": {},
   "source": [
    "# Numerical methods for Itô SDEs\n",
    "\n",
    "Let's look at the order of convergence of the three schemes discussed in the lectures (Euler-Maruyama, Milstein and Runge-Kutta) using the following linear SDE as a test:\n",
    "$$\n",
    "dX_t = \\lambda X_t dt + \\mu X_t dW_t, \\qquad X_0 = x\n",
    "$$\n",
    "\n",
    "Note the non-constant coefficient in front of $dW_t$ so that we can see differences between the three schemes. \n",
    "\n",
    "This is a Geometric Brownian motion, which arises in financial mathematics (the probability density of this SDE satisfies the Black-Scholes PDE). Its exact solution is (non-examinable)\n",
    "$$\n",
    "X_t = x \\exp\\left[(\\lambda - \\mu^2/2)t + \\mu W_t \\right].\n",
    "$$\n",
    "\n",
    "Let's write functions to integrate this SDE using Euler-Maruyama, Milstein and Runge-Kutta.\n",
    "\n"
   ]
  }
 ],
 "metadata": {
  "kernelspec": {
   "display_name": "Julia 1.7.1",
   "language": "julia",
   "name": "julia-1.7"
  },
  "language_info": {
   "file_extension": ".jl",
   "mimetype": "application/julia",
   "name": "julia",
   "version": "1.7.1"
  },
  "orig_nbformat": 4
 },
 "nbformat": 4,
 "nbformat_minor": 2
}
