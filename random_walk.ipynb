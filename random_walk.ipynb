{
  "cells": [
    {
      "cell_type": "markdown",
      "source": [
        "# Random walk \n",
        "converging to Brownian motion.\n",
        "\n",
        "Testing notebook format, to be polished!"
      ],
      "metadata": {
        "nteract": {
          "transient": {
            "deleting": false
          }
        }
      }
    },
    {
      "cell_type": "code",
      "source": [
        "using Plots\n",
        "pyplot()\n",
        "using LaTeXStrings\n",
        "using Random\n",
        "rng = MersenneTwister(1234);"
      ],
      "outputs": [],
      "execution_count": 6,
      "metadata": {
        "execution": {
          "iopub.status.busy": "2022-02-14T17:33:51.488Z",
          "iopub.execute_input": "2022-02-14T17:33:51.494Z",
          "iopub.status.idle": "2022-02-14T17:33:51.592Z"
        }
      }
    },
    {
      "cell_type": "code",
      "source": [
        "# Set up parameters, initialise and fill\n",
        "Tf = 1; # final time\n",
        "K = 50; # number of time steps\n",
        "Δt = Tf/K; # time increment\n",
        "X = zeros(K+1); # vector to store the trajectory\n",
        "X[1] = 0.0; # initial condition\n",
        "for i = 2:K+1\n",
        "    X[i] = X[i-1] + sqrt(Δt)*rand([-1,1])\n",
        "end"
      ],
      "outputs": [],
      "execution_count": 7,
      "metadata": {
        "execution": {
          "iopub.status.busy": "2022-02-14T17:33:57.890Z",
          "iopub.execute_input": "2022-02-14T17:33:57.894Z",
          "iopub.status.idle": "2022-02-14T17:33:57.934Z"
        }
      }
    },
    {
      "cell_type": "code",
      "source": [
        "# Plot the trajectory\n",
        "\n",
        "plot!(0:Δt:1, X, \n",
        "    linetype=:steppre,\n",
        "    xlabel=\"t\",\n",
        "    ylabel=\"Xn\",\n",
        "    title=\"A random walk\"\n",
        ")"
      ],
      "outputs": [
        {
          "output_type": "execute_result",
          "execution_count": 8,
          "data": {
            "image/png": "[encoded data removed]"
          },
          "metadata": {}
        },
        {
          "output_type": "stream",
          "name": "stderr",
          "text": [
            "┌ Warning: `vendor()` is deprecated, use `BLAS.get_config()` and inspect the output instead\n",
            "│   caller = npyinitialize() at numpy.jl:67\n",
            "└ @ PyCall /Users/bruna/.julia/packages/PyCall/L0fLP/src/numpy.jl:67\n"
          ]
        }
      ],
      "execution_count": 8,
      "metadata": {
        "execution": {
          "iopub.status.busy": "2022-02-14T17:34:50.966Z",
          "iopub.execute_input": "2022-02-14T17:34:50.968Z",
          "iopub.status.idle": "2022-02-14T17:35:01.090Z"
        }
      }
    },
    {
      "cell_type": "code",
      "source": [],
      "outputs": [],
      "execution_count": null,
      "metadata": {
        "collapsed": true,
        "jupyter": {
          "source_hidden": false,
          "outputs_hidden": false
        },
        "nteract": {
          "transient": {
            "deleting": false
          }
        }
      }
    }
  ],
  "metadata": {
    "kernelspec": {
      "display_name": "Julia 1.7.1",
      "language": "julia",
      "name": "julia-1.7"
    },
    "language_info": {
      "file_extension": ".jl",
      "name": "julia",
      "mimetype": "application/julia",
      "version": "1.7.1"
    },
    "orig_nbformat": 4,
    "nteract": {
      "version": "0.28.0"
    }
  },
  "nbformat": 4,
  "nbformat_minor": 2
}