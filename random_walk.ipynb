{
  "cells": [
    {
      "cell_type": "markdown",
      "metadata": {
        "nteract": {
          "transient": {
            "deleting": false
          }
        }
      },
      "source": [
        "# Random walk \n",
        "converging to Brownian motion.\n",
        "\n",
        "Testing notebook format, to be polished!"
      ]
    },
    {
      "cell_type": "code",
      "execution_count": null,
      "metadata": {
        "execution": {
          "iopub.execute_input": "2022-02-15T19:24:21.376Z",
          "iopub.status.busy": "2022-02-15T19:24:21.094Z",
          "iopub.status.idle": "2022-02-15T19:24:29.063Z"
        }
      },
      "outputs": [],
      "source": [
        "using Plots\n",
        "using LaTeXStrings\n",
        "using Random\n",
        "rng = MersenneTwister(1234);"
      ]
    },
    {
      "cell_type": "code",
      "execution_count": null,
      "metadata": {
        "execution": {
          "iopub.execute_input": "2022-02-15T19:24:56.707Z",
          "iopub.status.busy": "2022-02-15T19:24:56.699Z",
          "iopub.status.idle": "2022-02-15T19:24:56.720Z"
        }
      },
      "outputs": [],
      "source": [
        "# Set up parameters, initialise and fill\n",
        "Tf = 1; # final time\n",
        "K = 50; # number of time steps\n",
        "Δt = Tf/K; # time increment\n",
        "X = zeros(K+1); # vector to store the trajectory\n",
        "X[1] = 0.0; # initial condition\n",
        "for i = 2:K+1\n",
        "    X[i] = X[i-1] + sqrt(Δt)*rand([-1,1])\n",
        "end"
      ]
    },
    {
      "cell_type": "code",
      "execution_count": null,
      "metadata": {
        "execution": {
          "iopub.execute_input": "2022-02-15T19:24:59.209Z",
          "iopub.status.busy": "2022-02-15T19:24:59.198Z",
          "iopub.status.idle": "2022-02-15T19:24:59.633Z"
        }
      },
      "outputs": [],
      "source": [
        "# Plot the trajectory\n",
        "\n",
        "plot!(0:Δt:1, X, \n",
        "    linetype=:steppre,\n",
        "    xlabel=\"t\",\n",
        "    ylabel=\"Xn\",\n",
        "    title=\"A random walk\"\n",
        ")"
      ]
    },
    {
      "cell_type": "code",
      "execution_count": null,
      "metadata": {
        "collapsed": true,
        "jupyter": {
          "outputs_hidden": false,
          "source_hidden": false
        },
        "nteract": {
          "transient": {
            "deleting": false
          }
        }
      },
      "outputs": [],
      "source": []
    }
  ],
  "metadata": {
    "kernelspec": {
      "display_name": "Julia 1.7.1",
      "language": "julia",
      "name": "julia-1.7"
    },
    "language_info": {
      "file_extension": ".jl",
      "mimetype": "application/julia",
      "name": "julia",
      "version": "1.7.1"
    },
    "nteract": {
      "version": "0.28.0"
    },
    "orig_nbformat": 4
  },
  "nbformat": 4,
  "nbformat_minor": 2
}
